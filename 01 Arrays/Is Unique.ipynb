{
 "cells": [
  {
   "cell_type": "markdown",
   "metadata": {},
   "source": [
    "# Is Unique\n",
    "\n",
    "Implement an algorithm to determine if a string has all unique characters. What if you cannot use additional data structures? \n",
    "\n",
    "**Questions to ask**\n",
    "- Are spaces allowed in string?\n",
    "- How should I treat spaces? Count them as a letter or get rid of them?"
   ]
  },
  {
   "cell_type": "code",
   "execution_count": 7,
   "metadata": {},
   "outputs": [],
   "source": [
    "def isunique(string):\n",
    "    if len(string)<=1:\n",
    "        return True\n",
    "    count ={}\n",
    "    for letter in string:\n",
    "        if letter in count:\n",
    "            print('Repeated letter: ', letter)\n",
    "            return False\n",
    "        else:\n",
    "            count[letter] =1\n",
    "    return True"
   ]
  },
  {
   "cell_type": "code",
   "execution_count": 8,
   "metadata": {},
   "outputs": [
    {
     "name": "stdout",
     "output_type": "stream",
     "text": [
      "Repeated letter:  r\n"
     ]
    },
    {
     "data": {
      "text/plain": [
       "False"
      ]
     },
     "execution_count": 8,
     "metadata": {},
     "output_type": "execute_result"
    }
   ],
   "source": [
    "isunique('Error')"
   ]
  },
  {
   "cell_type": "code",
   "execution_count": 9,
   "metadata": {},
   "outputs": [
    {
     "data": {
      "text/plain": [
       "True"
      ]
     },
     "execution_count": 9,
     "metadata": {},
     "output_type": "execute_result"
    }
   ],
   "source": [
    "isunique('Life')"
   ]
  },
  {
   "cell_type": "code",
   "execution_count": 12,
   "metadata": {},
   "outputs": [
    {
     "name": "stdout",
     "output_type": "stream",
     "text": [
      "Repeated letter:  o\n",
      "Repeated letter:  d\n",
      "Repeated letter:  i\n",
      "ALL TEST CASES PASSED\n"
     ]
    }
   ],
   "source": [
    "\"\"\"\n",
    "RUN THIS CELL TO TEST YOUR SOLUTION\n",
    "\"\"\"\n",
    "from nose.tools import assert_equal\n",
    "\n",
    "class IsUniqueTest(object):\n",
    "    \n",
    "    def test(self,sol):\n",
    "        assert_equal(sol('Someone'),False)\n",
    "        assert_equal(sol('Address'),False)\n",
    "        assert_equal(sol('Life'),True)\n",
    "        assert_equal(sol('Liquid'),False)\n",
    "        assert_equal(sol('Song'),True)\n",
    "        assert_equal(sol('S'),True)\n",
    "        assert_equal(sol(' '),True)\n",
    "        print(\"ALL TEST CASES PASSED\")\n",
    "\n",
    "# Run Tests\n",
    "t = IsUniqueTest()\n",
    "t.test(isunique)"
   ]
  }
 ],
 "metadata": {
  "kernelspec": {
   "display_name": "Python 3",
   "language": "python",
   "name": "python3"
  },
  "language_info": {
   "codemirror_mode": {
    "name": "ipython",
    "version": 3
   },
   "file_extension": ".py",
   "mimetype": "text/x-python",
   "name": "python",
   "nbconvert_exporter": "python",
   "pygments_lexer": "ipython3",
   "version": "3.7.3"
  }
 },
 "nbformat": 4,
 "nbformat_minor": 2
}
