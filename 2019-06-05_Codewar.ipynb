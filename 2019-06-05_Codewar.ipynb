{
 "cells": [
  {
   "cell_type": "markdown",
   "metadata": {},
   "source": [
    "# 1. Removing Elements\n",
    "\n",
    "Take an array and remove every second element out of that array. Always keep the first element and start removing with the next element.\n",
    "\n",
    "Example:my_list = ['Keep', 'Remove', 'Keep', 'Remove', 'Keep', ...]\n",
    "None of the arrays will be empty, so you don't have to worry about that!"
   ]
  },
  {
   "cell_type": "code",
   "execution_count": 56,
   "metadata": {},
   "outputs": [],
   "source": [
    "def remove_every_other(my_list):\n",
    "    # Find the index to keep\n",
    "    idx  =list(range(int(round(0.1+len(my_list)/2))))\n",
    "    # Returns the list with right index\n",
    "    return [my_list[x*2] for x in idx]\n"
   ]
  },
  {
   "cell_type": "code",
   "execution_count": 57,
   "metadata": {},
   "outputs": [
    {
     "data": {
      "text/plain": [
       "[[1, 2]]"
      ]
     },
     "execution_count": 57,
     "metadata": {},
     "output_type": "execute_result"
    }
   ],
   "source": [
    "remove_every_other(['Keep','Remove','Keep','Remove','Keep','Remove','Keep','Remove','Keep'])\n",
    "remove_every_other([[1,2]])"
   ]
  },
  {
   "cell_type": "code",
   "execution_count": 58,
   "metadata": {},
   "outputs": [
    {
     "name": "stdout",
     "output_type": "stream",
     "text": [
      "ALL TEST CASES PASSED\n"
     ]
    }
   ],
   "source": [
    "\"\"\"\n",
    "RUN THIS CELL TO TEST YOUR SOLUTION\n",
    "\"\"\"\n",
    "from nose.tools import assert_equal\n",
    "\n",
    "class TestRemoveElements(object):\n",
    "    \n",
    "    def test(self,sol):\n",
    "        assert_equal(remove_every_other(['Hello', 'Goodbye', 'Hello Again']),['Hello', 'Hello Again'])\n",
    "        assert_equal(remove_every_other([1, 2, 3, 4, 5, 6, 7, 8, 9, 10]),[1, 3, 5, 7, 9])\n",
    "        assert_equal(remove_every_other([[1, 2]]), [[1, 2]])\n",
    "        assert_equal(remove_every_other([['Goodbye'], {'Great': 'Job'}]),[['Goodbye']])\n",
    "        print('ALL TEST CASES PASSED')\n",
    "t=TestRemoveElements()\n",
    "t.test(remove_every_other)"
   ]
  },
  {
   "cell_type": "markdown",
   "metadata": {},
   "source": [
    "# Codewar solution\n"
   ]
  },
  {
   "cell_type": "code",
   "execution_count": 59,
   "metadata": {},
   "outputs": [],
   "source": [
    "def remove_every_other2(my_list):\n",
    "    return my_list[::2]"
   ]
  },
  {
   "cell_type": "code",
   "execution_count": 64,
   "metadata": {},
   "outputs": [],
   "source": [
    "def remove_every_other3(my_list):\n",
    "    return [v for c,v in enumerate(my_list) if not c%2]"
   ]
  },
  {
   "cell_type": "code",
   "execution_count": null,
   "metadata": {},
   "outputs": [],
   "source": []
  }
 ],
 "metadata": {
  "kernelspec": {
   "display_name": "Python 3",
   "language": "python",
   "name": "python3"
  },
  "language_info": {
   "codemirror_mode": {
    "name": "ipython",
    "version": 3
   },
   "file_extension": ".py",
   "mimetype": "text/x-python",
   "name": "python",
   "nbconvert_exporter": "python",
   "pygments_lexer": "ipython3",
   "version": "3.7.3"
  }
 },
 "nbformat": 4,
 "nbformat_minor": 2
}
