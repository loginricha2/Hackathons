{
 "cells": [
  {
   "cell_type": "markdown",
   "metadata": {},
   "source": [
    "# 1. Count Odd Numbers below n\n",
    "Given a number n, return the number of positive odd numbers below n, EASY!\n",
    "\n",
    "oddCount(7) //=> 3, i.e [1, 3, 5]\n",
    "\n",
    "oddCount(15) //=> 7, i.e [1, 3, 5, 7, 9, 11, 13]\n",
    "\n",
    "Expect large Inputs!"
   ]
  },
  {
   "cell_type": "code",
   "execution_count": 2,
   "metadata": {},
   "outputs": [],
   "source": [
    "def odd_count(n):\n",
    "    return int((n-(n%2))/2)"
   ]
  },
  {
   "cell_type": "code",
   "execution_count": 3,
   "metadata": {},
   "outputs": [
    {
     "data": {
      "text/plain": [
       "2"
      ]
     },
     "execution_count": 3,
     "metadata": {},
     "output_type": "execute_result"
    }
   ],
   "source": [
    "odd_count(4)"
   ]
  },
  {
   "cell_type": "code",
   "execution_count": 4,
   "metadata": {},
   "outputs": [
    {
     "name": "stdout",
     "output_type": "stream",
     "text": [
      "ALL TEST PASSED\n"
     ]
    }
   ],
   "source": [
    "'''Use this cell to test solutions'''\n",
    "\n",
    "from nose.tools import assert_equal\n",
    "\n",
    "class TestOddCount(object):\n",
    "    \n",
    "    def test(self,sol):\n",
    "        assert_equal(sol(7),3)\n",
    "        assert_equal(sol(5),2)\n",
    "        assert_equal(sol(15),7)\n",
    "        assert_equal(sol(15023),7511)\n",
    "        print('ALL TEST PASSED')\n",
    "        \n",
    "t = TestOddCount()\n",
    "t.test(odd_count)"
   ]
  },
  {
   "cell_type": "markdown",
   "metadata": {},
   "source": [
    "__________\n",
    "__________"
   ]
  },
  {
   "attachments": {
    "Picture1.png": {
     "image/png": "[encoded data removed]"
    }
   },
   "cell_type": "markdown",
   "metadata": {},
   "source": [
    "# 3. Closest pair of points in linearithmic time\n",
    "\n",
    "Given a number of points on a plane, your task is to find two points with the smallest distance between them in linearithmic O(n log n) time.\n",
    "\n",
    "Example:\n",
    "\n",
    "![Picture1.png](attachment:Picture1.png)\n",
    "\n",
    "For the plane above, the input will be: <br>\n",
    "( <br>\n",
    "> (2,2), # A <br>\n",
    "    (2,8), # B <br>\n",
    "    (5,5), # C <br>\n",
    "    (6,3), # D <br>\n",
    "    (6,7), # E <br>\n",
    "    (7,4), # F <br>\n",
    "    (7,9), # G <br>\n",
    ">\n",
    ") <br>\n",
    "\n",
    "=> closest pair id ((6,3),(7,4)) or ((7,4),(6,3)) <br>\n",
    "(both answers are valid. You can return a list of tuples too)  \n",
    " "
   ]
  },
  {
   "cell_type": "markdown",
   "metadata": {},
   "source": [
    "# Solution: Thinking aloud\n",
    "\n",
    "In order to acheive O(nlogn) we would need some type of binary tree algorithm. \n",
    "\n",
    "#### Brute force method:\n",
    "Find distance between (A,B), (A,C), (A,D), (A,E), (A,F),(A,G) > 6 operations; store min\n",
    "Find distance between (B,C), (B,D), (B,E),(B,F), (B,G) > 5 operations; store min\n",
    "Find distance between (C,D), (C,E), (C,F), (C,G) > 4 operations; store min\n",
    "Find distance between (D,E), (D,F), (D,G) > 3 operations; store min\n",
    "Find distance between (E,F), (E,G) > 2 operations; store min\n",
    "Find distance between (F,G) > 1 operations; store\n",
    "\n",
    "Compare 6 minimum values to find minimum distance. Space Complexity O(1)\n",
    "Total operations  = (n-1)(n)/2 > Time complexity O(n^2)\n",
    "\n",
    "\n",
    "#### Trial 1: Not sure if this will work:\n",
    "Find distance between (A,B), (A,C), (A,D), (A,E), (A,F),(A,G) > 6 operations; store min tuple\n",
    "Find the distance of points from the minimum distance point, say C, so compare the  distance (A,C) to (C,B), (C,D), (C,E), (C,F), (C,G) >\n",
    "Find the distance of points from next min distance point, say D\n",
    "\n",
    "Why should this give nlogn time? \n",
    "\n",
    "\n",
    "#### Next problem: How to implement binary tree in Python. "
   ]
  },
  {
   "cell_type": "code",
   "execution_count": null,
   "metadata": {},
   "outputs": [],
   "source": []
  }
 ],
 "metadata": {
  "kernelspec": {
   "display_name": "Python 3",
   "language": "python",
   "name": "python3"
  }
 },
 "nbformat": 4,
 "nbformat_minor": 2
}
