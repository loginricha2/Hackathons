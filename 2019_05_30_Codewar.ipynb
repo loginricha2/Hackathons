{
 "cells": [
  {
   "cell_type": "markdown",
   "metadata": {},
   "source": [
    "## How many arguments\n",
    "\n",
    "Create a function `args_count`, that returns the count of passed arguments\n",
    "\n",
    "args_count(1, 2, 3) -> 3\n",
    "args_count(1, 2, 3, 10) -> 4 "
   ]
  },
  {
   "cell_type": "code",
   "execution_count": 152,
   "metadata": {},
   "outputs": [],
   "source": [
    "def args_count(*argv,**kwargs):\n",
    "    \n",
    "    ''' Function takes in variable number of arguments \n",
    "    and returns the number of arguments passed to the function'''\n",
    "    return len(argv) + len(kwargs)"
   ]
  },
  {
   "cell_type": "code",
   "execution_count": 153,
   "metadata": {},
   "outputs": [
    {
     "data": {
      "text/plain": [
       "2"
      ]
     },
     "execution_count": 153,
     "metadata": {},
     "output_type": "execute_result"
    }
   ],
   "source": [
    "args_count(32,a1=12)"
   ]
  },
  {
   "cell_type": "code",
   "execution_count": 154,
   "metadata": {},
   "outputs": [
    {
     "name": "stdout",
     "output_type": "stream",
     "text": [
      "ALL TEST CASES PASSED\n"
     ]
    }
   ],
   "source": [
    "\"\"\"\n",
    "RUN THIS CELL TO TEST YOUR SOLUTION\n",
    "\"\"\"\n",
    "from nose.tools import assert_equal\n",
    "\n",
    "class TestPair(object):\n",
    "    \n",
    "    def test(self,sol):\n",
    "        assert_equal(sol(100),1)\n",
    "        assert_equal(sol(100,2,3),3)\n",
    "        assert_equal(sol(32,a1=12),2)\n",
    "        assert_equal(sol(),0)\n",
    "        print('ALL TEST CASES PASSED')\n",
    "t=TestPair()\n",
    "t.test(args_count)"
   ]
  },
  {
   "cell_type": "markdown",
   "metadata": {},
   "source": [
    "_____"
   ]
  },
  {
   "attachments": {
    "Picture1.png": {
     "image/png": "[encoded data removed]"
    }
   },
   "cell_type": "markdown",
   "metadata": {},
   "source": [
    "# Upside-Down Pyramid Addition...REVERSED!\n",
    "Upside-Down Pyramid Addition is the process of taking a list of numbers and consecutively adding them together until you reach one number.\n",
    "\n",
    "When given the numbers 2, 1, 1 the following process occurs:\n",
    "\n",
    "![Picture1.png](attachment:Picture1.png)\n",
    "\n",
    "This ends in the number 5.\n",
    "\n",
    "**YOUR TASK**\n",
    "\n",
    "Given the right side of an Upside-Down Pyramid (Ascending), write a function that will return the original list.\n",
    "\n",
    "**EXAMPLE**\n",
    "\n",
    "reverse([5, 2, 1]) => [2, 1, 1]\n",
    "\n",
    "**Solution**\n",
    "\n",
    "Starting with construction of upside-down pyramid"
   ]
  },
  {
   "cell_type": "code",
   "execution_count": 142,
   "metadata": {},
   "outputs": [],
   "source": [
    "def upside_down_pyramid(a):\n",
    "    # Creates upside down pyramid for arguments passed\n",
    "    \n",
    "    print(a)\n",
    "    for n in range(len(a)-1):\n",
    "        \n",
    "        # Subtract the original array with shifted array. \n",
    "        # Last element being same for both array will result in zero.\n",
    "        a = [x+y for x,y in zip(a,a[1:])]\n",
    "        \n",
    "        # print the pyramid\n",
    "        print(a)"
   ]
  },
  {
   "cell_type": "code",
   "execution_count": 143,
   "metadata": {},
   "outputs": [
    {
     "name": "stdout",
     "output_type": "stream",
     "text": [
      "[-10, 10, 11]\n",
      "[0, 21]\n",
      "[21]\n"
     ]
    }
   ],
   "source": [
    "upside_down_pyramid([-10,10,11])"
   ]
  },
  {
   "cell_type": "markdown",
   "metadata": {},
   "source": [
    "**Solution- Upside-down pyramid reversed**"
   ]
  },
  {
   "cell_type": "code",
   "execution_count": null,
   "metadata": {},
   "outputs": [],
   "source": [
    "def reverse_upside_down_pyramid2(a):\n",
    "    ''' Generalized pyramid'''\n",
    "    \n",
    "    # Create an array output for the results\n",
    "    output =[]\n",
    "    # The last element of input array is part of result\n",
    "    output.append(a[-1])\n",
    "    \n",
    "    # As we have one part of pyramid \n",
    "    # For loop will be run height of pyramid -1 = length of input array -1 \n",
    "    for i in range(len(a)-1):\n",
    "        # make a deep copy of input array\n",
    "        b = a[:]\n",
    "        \n",
    "        # Shift the copied array by -1 and add the last element of original array as input\n",
    "        b.pop(0)\n",
    "        b.append(b[-1])\n",
    "        \n",
    "        # Subtract the original array with shifted array. \n",
    "        # Last element being same for both array will result in zero.\n",
    "        a = [x-y for x,y in zip(a,b)]\n",
    "        \n",
    "        # Extract the last non-zero element from array a\n",
    "        c = a[:-(i+1)]\n",
    "        output.append(c[-1])    \n",
    "        \n",
    "    return output[::-1]"
   ]
  },
  {
   "cell_type": "code",
   "execution_count": 114,
   "metadata": {},
   "outputs": [
    {
     "data": {
      "text/plain": [
       "[2, 1, 1]"
      ]
     },
     "execution_count": 114,
     "metadata": {},
     "output_type": "execute_result"
    }
   ],
   "source": [
    "reverse_upside_down_pyramid2([5,2,1])"
   ]
  },
  {
   "cell_type": "code",
   "execution_count": 119,
   "metadata": {},
   "outputs": [
    {
     "name": "stdout",
     "output_type": "stream",
     "text": [
      "ALL TEST CASES PASSED\n"
     ]
    }
   ],
   "source": [
    "\"\"\"\n",
    "RUN THIS CELL TO TEST YOUR SOLUTION\n",
    "\"\"\"\n",
    "from nose.tools import assert_equal\n",
    "\n",
    "class TestPair(object):\n",
    "    \n",
    "    def test(self,sol):\n",
    "        assert_equal(sol([5,2,1]),[2,1,1])\n",
    "        assert_equal(sol([-34,-22,-9,1,9]),[5,-1,-2,-8,9])\n",
    "        assert_equal(sol([6,-31, -35,-25,-10]),[10, 9,5,-15,-10])\n",
    "        assert_equal(sol([0,0,0,-10]),[10,-10,10,-10])\n",
    "        print('ALL TEST CASES PASSED')\n",
    "t=TestPair()\n",
    "t.test(reverse_upside_down_pyramid2)"
   ]
  },
  {
   "cell_type": "markdown",
   "metadata": {},
   "source": [
    "# Best Solution from Codewars"
   ]
  },
  {
   "cell_type": "code",
   "execution_count": 134,
   "metadata": {},
   "outputs": [],
   "source": [
    "def reverse(lst):\n",
    "    ret = []\n",
    "    while lst:\n",
    "        ret.append(lst[-1])\n",
    "        lst = [a-b for a,b in zip(lst, lst[1:])]\n",
    "    return ret[::-1]"
   ]
  },
  {
   "cell_type": "code",
   "execution_count": 135,
   "metadata": {},
   "outputs": [
    {
     "name": "stdout",
     "output_type": "stream",
     "text": [
      "ALL TEST CASES PASSED\n"
     ]
    }
   ],
   "source": [
    "t.test(reverse)"
   ]
  },
  {
   "cell_type": "code",
   "execution_count": null,
   "metadata": {},
   "outputs": [],
   "source": []
  }
 ],
 "metadata": {
  "kernelspec": {
   "display_name": "Python 3",
   "language": "python",
   "name": "python3"
  },
  "language_info": {
   "codemirror_mode": {
    "name": "ipython",
    "version": 3
   },
   "file_extension": ".py",
   "mimetype": "text/x-python",
   "name": "python",
   "nbconvert_exporter": "python",
   "pygments_lexer": "ipython3",
   "version": "3.7.3"
  }
 },
 "nbformat": 4,
 "nbformat_minor": 2
}
